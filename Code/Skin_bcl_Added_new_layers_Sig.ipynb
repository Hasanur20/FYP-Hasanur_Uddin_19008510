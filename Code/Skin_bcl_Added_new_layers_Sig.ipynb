{
 "cells": [
  {
   "cell_type": "code",
   "execution_count": 1,
   "id": "f671858a-0bb7-4dad-a119-89c5de472436",
   "metadata": {
    "execution": {
     "iopub.execute_input": "2023-04-03T11:10:33.037466Z",
     "iopub.status.busy": "2023-04-03T11:10:33.037138Z",
     "iopub.status.idle": "2023-04-03T11:10:54.650005Z",
     "shell.execute_reply": "2023-04-03T11:10:54.649200Z",
     "shell.execute_reply.started": "2023-04-03T11:10:33.037438Z"
    }
   },
   "outputs": [
    {
     "name": "stdout",
     "output_type": "stream",
     "text": [
      "Requirement already satisfied: opencv-python in /usr/local/lib/python3.9/dist-packages (4.6.0.66)\n",
      "Requirement already satisfied: numpy>=1.19.3 in /usr/local/lib/python3.9/dist-packages (from opencv-python) (1.23.4)\n",
      "\u001b[33mWARNING: Running pip as the 'root' user can result in broken permissions and conflicting behaviour with the system package manager. It is recommended to use a virtual environment instead: https://pip.pypa.io/warnings/venv\u001b[0m\u001b[33m\n",
      "\u001b[0mRequirement already satisfied: numpy in /usr/local/lib/python3.9/dist-packages (1.23.4)\n",
      "\u001b[33mWARNING: Running pip as the 'root' user can result in broken permissions and conflicting behaviour with the system package manager. It is recommended to use a virtual environment instead: https://pip.pypa.io/warnings/venv\u001b[0m\u001b[33m\n",
      "\u001b[0mRequirement already satisfied: imgaug in /usr/local/lib/python3.9/dist-packages (0.4.0)\n",
      "Requirement already satisfied: matplotlib in /usr/local/lib/python3.9/dist-packages (from imgaug) (3.6.1)\n",
      "Requirement already satisfied: imageio in /usr/local/lib/python3.9/dist-packages (from imgaug) (2.25.0)\n",
      "Requirement already satisfied: opencv-python in /usr/local/lib/python3.9/dist-packages (from imgaug) (4.6.0.66)\n",
      "Requirement already satisfied: numpy>=1.15 in /usr/local/lib/python3.9/dist-packages (from imgaug) (1.23.4)\n",
      "Requirement already satisfied: Pillow in /usr/local/lib/python3.9/dist-packages (from imgaug) (9.2.0)\n",
      "Requirement already satisfied: scipy in /usr/local/lib/python3.9/dist-packages (from imgaug) (1.9.2)\n",
      "Requirement already satisfied: scikit-image>=0.14.2 in /usr/local/lib/python3.9/dist-packages (from imgaug) (0.19.3)\n",
      "Requirement already satisfied: Shapely in /usr/local/lib/python3.9/dist-packages (from imgaug) (2.0.1)\n",
      "Requirement already satisfied: six in /usr/lib/python3/dist-packages (from imgaug) (1.14.0)\n",
      "Requirement already satisfied: PyWavelets>=1.1.1 in /usr/local/lib/python3.9/dist-packages (from scikit-image>=0.14.2->imgaug) (1.4.1)\n",
      "Requirement already satisfied: tifffile>=2019.7.26 in /usr/local/lib/python3.9/dist-packages (from scikit-image>=0.14.2->imgaug) (2023.1.23.1)\n",
      "Requirement already satisfied: networkx>=2.2 in /usr/local/lib/python3.9/dist-packages (from scikit-image>=0.14.2->imgaug) (3.0)\n",
      "Requirement already satisfied: packaging>=20.0 in /usr/local/lib/python3.9/dist-packages (from scikit-image>=0.14.2->imgaug) (23.0)\n",
      "Requirement already satisfied: kiwisolver>=1.0.1 in /usr/local/lib/python3.9/dist-packages (from matplotlib->imgaug) (1.4.4)\n",
      "Requirement already satisfied: python-dateutil>=2.7 in /usr/local/lib/python3.9/dist-packages (from matplotlib->imgaug) (2.8.2)\n",
      "Requirement already satisfied: fonttools>=4.22.0 in /usr/local/lib/python3.9/dist-packages (from matplotlib->imgaug) (4.38.0)\n",
      "Requirement already satisfied: cycler>=0.10 in /usr/local/lib/python3.9/dist-packages (from matplotlib->imgaug) (0.11.0)\n",
      "Requirement already satisfied: contourpy>=1.0.1 in /usr/local/lib/python3.9/dist-packages (from matplotlib->imgaug) (1.0.7)\n",
      "Requirement already satisfied: pyparsing>=2.2.1 in /usr/local/lib/python3.9/dist-packages (from matplotlib->imgaug) (3.0.9)\n",
      "\u001b[33mWARNING: Running pip as the 'root' user can result in broken permissions and conflicting behaviour with the system package manager. It is recommended to use a virtual environment instead: https://pip.pypa.io/warnings/venv\u001b[0m\u001b[33m\n",
      "\u001b[0mRequirement already satisfied: matplotlib in /usr/local/lib/python3.9/dist-packages (3.6.1)\n",
      "Requirement already satisfied: cycler>=0.10 in /usr/local/lib/python3.9/dist-packages (from matplotlib) (0.11.0)\n",
      "Requirement already satisfied: fonttools>=4.22.0 in /usr/local/lib/python3.9/dist-packages (from matplotlib) (4.38.0)\n",
      "Requirement already satisfied: pyparsing>=2.2.1 in /usr/local/lib/python3.9/dist-packages (from matplotlib) (3.0.9)\n",
      "Requirement already satisfied: contourpy>=1.0.1 in /usr/local/lib/python3.9/dist-packages (from matplotlib) (1.0.7)\n",
      "Requirement already satisfied: pillow>=6.2.0 in /usr/local/lib/python3.9/dist-packages (from matplotlib) (9.2.0)\n",
      "Requirement already satisfied: packaging>=20.0 in /usr/local/lib/python3.9/dist-packages (from matplotlib) (23.0)\n",
      "Requirement already satisfied: numpy>=1.19 in /usr/local/lib/python3.9/dist-packages (from matplotlib) (1.23.4)\n",
      "Requirement already satisfied: python-dateutil>=2.7 in /usr/local/lib/python3.9/dist-packages (from matplotlib) (2.8.2)\n",
      "Requirement already satisfied: kiwisolver>=1.0.1 in /usr/local/lib/python3.9/dist-packages (from matplotlib) (1.4.4)\n",
      "Requirement already satisfied: six>=1.5 in /usr/lib/python3/dist-packages (from python-dateutil>=2.7->matplotlib) (1.14.0)\n",
      "\u001b[33mWARNING: Running pip as the 'root' user can result in broken permissions and conflicting behaviour with the system package manager. It is recommended to use a virtual environment instead: https://pip.pypa.io/warnings/venv\u001b[0m\u001b[33m\n",
      "\u001b[0mRequirement already satisfied: keras in /usr/local/lib/python3.9/dist-packages (2.9.0)\n",
      "\u001b[33mWARNING: Running pip as the 'root' user can result in broken permissions and conflicting behaviour with the system package manager. It is recommended to use a virtual environment instead: https://pip.pypa.io/warnings/venv\u001b[0m\u001b[33m\n",
      "\u001b[0mRequirement already satisfied: tensorflow in /usr/local/lib/python3.9/dist-packages (2.9.2)\n",
      "Requirement already satisfied: six>=1.12.0 in /usr/lib/python3/dist-packages (from tensorflow) (1.14.0)\n",
      "Requirement already satisfied: typing-extensions>=3.6.6 in /usr/local/lib/python3.9/dist-packages (from tensorflow) (4.4.0)\n",
      "Requirement already satisfied: protobuf<3.20,>=3.9.2 in /usr/local/lib/python3.9/dist-packages (from tensorflow) (3.19.6)\n",
      "Requirement already satisfied: termcolor>=1.1.0 in /usr/local/lib/python3.9/dist-packages (from tensorflow) (2.2.0)\n",
      "Requirement already satisfied: tensorflow-estimator<2.10.0,>=2.9.0rc0 in /usr/local/lib/python3.9/dist-packages (from tensorflow) (2.9.0)\n",
      "Requirement already satisfied: flatbuffers<2,>=1.12 in /usr/local/lib/python3.9/dist-packages (from tensorflow) (1.12)\n",
      "Requirement already satisfied: numpy>=1.20 in /usr/local/lib/python3.9/dist-packages (from tensorflow) (1.23.4)\n",
      "Requirement already satisfied: tensorboard<2.10,>=2.9 in /usr/local/lib/python3.9/dist-packages (from tensorflow) (2.9.1)\n",
      "Requirement already satisfied: wrapt>=1.11.0 in /usr/local/lib/python3.9/dist-packages (from tensorflow) (1.14.1)\n",
      "Requirement already satisfied: grpcio<2.0,>=1.24.3 in /usr/local/lib/python3.9/dist-packages (from tensorflow) (1.51.1)\n",
      "Requirement already satisfied: libclang>=13.0.0 in /usr/local/lib/python3.9/dist-packages (from tensorflow) (15.0.6.1)\n",
      "Requirement already satisfied: h5py>=2.9.0 in /usr/local/lib/python3.9/dist-packages (from tensorflow) (3.8.0)\n",
      "Requirement already satisfied: keras-preprocessing>=1.1.1 in /usr/local/lib/python3.9/dist-packages (from tensorflow) (1.1.2)\n",
      "Requirement already satisfied: astunparse>=1.6.0 in /usr/local/lib/python3.9/dist-packages (from tensorflow) (1.6.3)\n",
      "Requirement already satisfied: keras<2.10.0,>=2.9.0rc0 in /usr/local/lib/python3.9/dist-packages (from tensorflow) (2.9.0)\n",
      "Requirement already satisfied: setuptools in /usr/local/lib/python3.9/dist-packages (from tensorflow) (66.1.1)\n",
      "Requirement already satisfied: packaging in /usr/local/lib/python3.9/dist-packages (from tensorflow) (23.0)\n",
      "Requirement already satisfied: absl-py>=1.0.0 in /usr/local/lib/python3.9/dist-packages (from tensorflow) (1.4.0)\n",
      "Requirement already satisfied: google-pasta>=0.1.1 in /usr/local/lib/python3.9/dist-packages (from tensorflow) (0.2.0)\n",
      "Requirement already satisfied: opt-einsum>=2.3.2 in /usr/local/lib/python3.9/dist-packages (from tensorflow) (3.3.0)\n",
      "Requirement already satisfied: gast<=0.4.0,>=0.2.1 in /usr/local/lib/python3.9/dist-packages (from tensorflow) (0.4.0)\n",
      "Requirement already satisfied: tensorflow-io-gcs-filesystem>=0.23.1 in /usr/local/lib/python3.9/dist-packages (from tensorflow) (0.30.0)\n",
      "Requirement already satisfied: wheel<1.0,>=0.23.0 in /usr/local/lib/python3.9/dist-packages (from astunparse>=1.6.0->tensorflow) (0.35.1)\n",
      "Requirement already satisfied: werkzeug>=1.0.1 in /usr/local/lib/python3.9/dist-packages (from tensorboard<2.10,>=2.9->tensorflow) (2.2.2)\n",
      "Requirement already satisfied: google-auth<3,>=1.6.3 in /usr/local/lib/python3.9/dist-packages (from tensorboard<2.10,>=2.9->tensorflow) (2.16.0)\n",
      "Requirement already satisfied: requests<3,>=2.21.0 in /usr/local/lib/python3.9/dist-packages (from tensorboard<2.10,>=2.9->tensorflow) (2.28.2)\n",
      "Requirement already satisfied: google-auth-oauthlib<0.5,>=0.4.1 in /usr/local/lib/python3.9/dist-packages (from tensorboard<2.10,>=2.9->tensorflow) (0.4.6)\n",
      "Requirement already satisfied: tensorboard-data-server<0.7.0,>=0.6.0 in /usr/local/lib/python3.9/dist-packages (from tensorboard<2.10,>=2.9->tensorflow) (0.6.1)\n",
      "Requirement already satisfied: markdown>=2.6.8 in /usr/local/lib/python3.9/dist-packages (from tensorboard<2.10,>=2.9->tensorflow) (3.4.1)\n",
      "Requirement already satisfied: tensorboard-plugin-wit>=1.6.0 in /usr/local/lib/python3.9/dist-packages (from tensorboard<2.10,>=2.9->tensorflow) (1.8.1)\n",
      "Requirement already satisfied: cachetools<6.0,>=2.0.0 in /usr/local/lib/python3.9/dist-packages (from google-auth<3,>=1.6.3->tensorboard<2.10,>=2.9->tensorflow) (5.3.0)\n",
      "Requirement already satisfied: rsa<5,>=3.1.4 in /usr/local/lib/python3.9/dist-packages (from google-auth<3,>=1.6.3->tensorboard<2.10,>=2.9->tensorflow) (4.7.2)\n",
      "Requirement already satisfied: pyasn1-modules>=0.2.1 in /usr/local/lib/python3.9/dist-packages (from google-auth<3,>=1.6.3->tensorboard<2.10,>=2.9->tensorflow) (0.2.8)\n",
      "Requirement already satisfied: requests-oauthlib>=0.7.0 in /usr/local/lib/python3.9/dist-packages (from google-auth-oauthlib<0.5,>=0.4.1->tensorboard<2.10,>=2.9->tensorflow) (1.3.1)\n",
      "Requirement already satisfied: importlib-metadata>=4.4 in /usr/local/lib/python3.9/dist-packages (from markdown>=2.6.8->tensorboard<2.10,>=2.9->tensorflow) (6.0.0)\n",
      "Requirement already satisfied: charset-normalizer<4,>=2 in /usr/local/lib/python3.9/dist-packages (from requests<3,>=2.21.0->tensorboard<2.10,>=2.9->tensorflow) (2.1.1)\n",
      "Requirement already satisfied: idna<4,>=2.5 in /usr/lib/python3/dist-packages (from requests<3,>=2.21.0->tensorboard<2.10,>=2.9->tensorflow) (2.8)\n",
      "Requirement already satisfied: urllib3<1.27,>=1.21.1 in /usr/local/lib/python3.9/dist-packages (from requests<3,>=2.21.0->tensorboard<2.10,>=2.9->tensorflow) (1.26.14)\n",
      "Requirement already satisfied: certifi>=2017.4.17 in /usr/lib/python3/dist-packages (from requests<3,>=2.21.0->tensorboard<2.10,>=2.9->tensorflow) (2019.11.28)\n",
      "Requirement already satisfied: MarkupSafe>=2.1.1 in /usr/local/lib/python3.9/dist-packages (from werkzeug>=1.0.1->tensorboard<2.10,>=2.9->tensorflow) (2.1.2)\n",
      "Requirement already satisfied: zipp>=0.5 in /usr/local/lib/python3.9/dist-packages (from importlib-metadata>=4.4->markdown>=2.6.8->tensorboard<2.10,>=2.9->tensorflow) (3.11.0)\n",
      "Requirement already satisfied: pyasn1<0.5.0,>=0.4.6 in /usr/local/lib/python3.9/dist-packages (from pyasn1-modules>=0.2.1->google-auth<3,>=1.6.3->tensorboard<2.10,>=2.9->tensorflow) (0.4.8)\n",
      "Requirement already satisfied: oauthlib>=3.0.0 in /usr/local/lib/python3.9/dist-packages (from requests-oauthlib>=0.7.0->google-auth-oauthlib<0.5,>=0.4.1->tensorboard<2.10,>=2.9->tensorflow) (3.2.2)\n",
      "\u001b[33mWARNING: Running pip as the 'root' user can result in broken permissions and conflicting behaviour with the system package manager. It is recommended to use a virtual environment instead: https://pip.pypa.io/warnings/venv\u001b[0m\u001b[33m\n",
      "\u001b[0mRequirement already satisfied: scikit-learn in /usr/local/lib/python3.9/dist-packages (1.1.2)\n",
      "Requirement already satisfied: threadpoolctl>=2.0.0 in /usr/local/lib/python3.9/dist-packages (from scikit-learn) (3.1.0)\n",
      "Requirement already satisfied: joblib>=1.0.0 in /usr/local/lib/python3.9/dist-packages (from scikit-learn) (1.2.0)\n",
      "Requirement already satisfied: numpy>=1.17.3 in /usr/local/lib/python3.9/dist-packages (from scikit-learn) (1.23.4)\n",
      "Requirement already satisfied: scipy>=1.3.2 in /usr/local/lib/python3.9/dist-packages (from scikit-learn) (1.9.2)\n",
      "\u001b[33mWARNING: Running pip as the 'root' user can result in broken permissions and conflicting behaviour with the system package manager. It is recommended to use a virtual environment instead: https://pip.pypa.io/warnings/venv\u001b[0m\u001b[33m\n",
      "\u001b[0m"
     ]
    }
   ],
   "source": [
    "!pip install opencv-python\n",
    "!pip install numpy\n",
    "!pip install imgaug\n",
    "!pip install matplotlib\n",
    "!pip install keras\n",
    "!pip install tensorflow\n",
    "!pip install scikit-learn"
   ]
  },
  {
   "cell_type": "code",
   "execution_count": 2,
   "id": "3de1403c-1a0d-4f17-bb23-d91b0b568e33",
   "metadata": {
    "execution": {
     "iopub.execute_input": "2023-04-03T11:10:59.216400Z",
     "iopub.status.busy": "2023-04-03T11:10:59.215486Z",
     "iopub.status.idle": "2023-04-03T11:11:02.893600Z",
     "shell.execute_reply": "2023-04-03T11:11:02.892544Z",
     "shell.execute_reply.started": "2023-04-03T11:10:59.216358Z"
    }
   },
   "outputs": [],
   "source": [
    "import cv2\n",
    "import numpy as np\n",
    "import imgaug.augmenters as iaa\n",
    "import os\n",
    "import matplotlib.pyplot as plt\n",
    "import keras\n",
    "import tensorflow as tf\n",
    "from sklearn.preprocessing import LabelEncoder\n",
    "from tensorflow.keras.layers import Dense, Conv2D, Flatten, Dropout, MaxPooling2D\n",
    "from tensorflow.keras.optimizers import Adam\n",
    "from tensorflow.keras.models import Sequential\n",
    "from tensorflow.keras.callbacks import ReduceLROnPlateau,EarlyStopping,TensorBoard\n",
    "from keras import layers\n",
    "from sklearn.model_selection import train_test_split\n",
    "from sklearn.metrics import classification_report, f1_score, precision_score, recall_score, confusion_matrix"
   ]
  },
  {
   "cell_type": "code",
   "execution_count": 3,
   "id": "ae2fea94-ec16-4d1a-a752-263cd247035d",
   "metadata": {
    "execution": {
     "iopub.execute_input": "2023-04-03T11:11:12.889817Z",
     "iopub.status.busy": "2023-04-03T11:11:12.889199Z",
     "iopub.status.idle": "2023-04-03T11:11:12.894638Z",
     "shell.execute_reply": "2023-04-03T11:11:12.893903Z",
     "shell.execute_reply.started": "2023-04-03T11:11:12.889787Z"
    }
   },
   "outputs": [],
   "source": [
    "ben_train = os.listdir(\"benign\")\n",
    "mal_train = os.listdir(\"malignant\")\n"
   ]
  },
  {
   "cell_type": "code",
   "execution_count": 4,
   "id": "a129f543-8cc3-409f-b2d3-d19e8cbadf9c",
   "metadata": {
    "execution": {
     "iopub.execute_input": "2023-04-03T11:11:14.736627Z",
     "iopub.status.busy": "2023-04-03T11:11:14.736290Z",
     "iopub.status.idle": "2023-04-03T11:11:14.743145Z",
     "shell.execute_reply": "2023-04-03T11:11:14.742320Z",
     "shell.execute_reply.started": "2023-04-03T11:11:14.736601Z"
    }
   },
   "outputs": [],
   "source": [
    "train = []\n",
    "train_y = []\n",
    "\n",
    "seq = iaa.Sequential([\n",
    "    iaa.Flipud(0.5),\n",
    "    iaa.Fliplr(0.5),\n",
    "    iaa.Affine(rotate=(-45, 45)),\n",
    "    iaa.Multiply((0.0, 1.5), per_channel=False),\n",
    "    iaa.LinearContrast((0.5, 2.0))\n",
    "])"
   ]
  },
  {
   "cell_type": "code",
   "execution_count": 5,
   "id": "99af2975-08e8-4806-aa8c-fae211fe56cf",
   "metadata": {
    "execution": {
     "iopub.execute_input": "2023-04-03T11:11:21.126066Z",
     "iopub.status.busy": "2023-04-03T11:11:21.125708Z",
     "iopub.status.idle": "2023-04-03T11:11:48.792309Z",
     "shell.execute_reply": "2023-04-03T11:11:48.791574Z",
     "shell.execute_reply.started": "2023-04-03T11:11:21.126038Z"
    }
   },
   "outputs": [],
   "source": [
    "for i in ben_train:\n",
    "    x = 'benign/' + i\n",
    "    img = cv2.cvtColor(cv2.imread(x), cv2.COLOR_BGR2RGB)\n",
    "    img = img.astype('float32')/255 # normalise image\n",
    "    img = cv2.resize(img,(200,200))\n",
    "    train.append(img.flatten())\n",
    "    train_y.append(0) # label 0 for benign\n",
    "\n",
    "    # Augment the image\n",
    "    for j in range(5):\n",
    "        augmented_img = seq.augment_image(img)\n",
    "        train.append(augmented_img.flatten())\n",
    "        train_y.append(0)\n",
    "    \n",
    "    \n",
    "for i in mal_train:\n",
    "    x = 'malignant/' + i\n",
    "    img = cv2.cvtColor(cv2.imread(x), cv2.COLOR_BGR2RGB)\n",
    "    img = img.astype('float32')/255 # normalise image\n",
    "    img = cv2.resize(img,(200,200))\n",
    "    train.append(img.flatten())\n",
    "    train_y.append(1) # label 0 for benign\n",
    "\n",
    "    # Augment the image\n",
    "    for j in range(5):\n",
    "        augmented_img = seq.augment_image(img)\n",
    "        train.append(augmented_img.flatten())\n",
    "        train_y.append(1)"
   ]
  },
  {
   "cell_type": "code",
   "execution_count": 6,
   "id": "5a7bc8e5-a321-4c20-9181-24cf1dff5cef",
   "metadata": {
    "execution": {
     "iopub.execute_input": "2023-04-03T11:11:51.715999Z",
     "iopub.status.busy": "2023-04-03T11:11:51.715655Z",
     "iopub.status.idle": "2023-04-03T11:11:53.946262Z",
     "shell.execute_reply": "2023-04-03T11:11:53.945553Z",
     "shell.execute_reply.started": "2023-04-03T11:11:51.715973Z"
    }
   },
   "outputs": [
    {
     "name": "stdout",
     "output_type": "stream",
     "text": [
      "9660\n",
      "9660\n"
     ]
    }
   ],
   "source": [
    "train = np.array(train)\n",
    "print(len(train))\n",
    "print(len(train_y))"
   ]
  },
  {
   "cell_type": "code",
   "execution_count": 7,
   "id": "74f3f58f-f9f9-41f5-913d-2e7d46c1b347",
   "metadata": {
    "execution": {
     "iopub.execute_input": "2023-04-03T11:11:58.914940Z",
     "iopub.status.busy": "2023-04-03T11:11:58.914604Z",
     "iopub.status.idle": "2023-04-03T11:12:01.017997Z",
     "shell.execute_reply": "2023-04-03T11:12:01.017078Z",
     "shell.execute_reply.started": "2023-04-03T11:11:58.914913Z"
    }
   },
   "outputs": [
    {
     "name": "stdout",
     "output_type": "stream",
     "text": [
      "training rows 7728\n",
      "validation rows 1932\n"
     ]
    }
   ],
   "source": [
    "train,val,train_y,val_y = train_test_split(train,train_y,test_size=0.2,random_state=44)\n",
    "train = train.reshape(train.shape[0],200,200,3)\n",
    "val = val.reshape(val.shape[0],200,200,3)\n",
    "encoder = LabelEncoder() # transform the labels so they can be read by the machine easily \n",
    "encoder = encoder.fit(train_y) # pass through the y labels \n",
    "train_y = encoder.transform(train_y) # transfrom the labels \n",
    "encoder = encoder.fit(val_y)\n",
    "val_y = encoder.transform(val_y)\n",
    "print(str('training rows ' + str(len(train)))) # print the length of training data \n",
    "print(str('validation rows ' + str(len(val)))) # validation or test data"
   ]
  },
  {
   "cell_type": "code",
   "execution_count": 8,
   "id": "1aa25241-54d4-459a-af1a-ae3853d7d6a7",
   "metadata": {
    "execution": {
     "iopub.execute_input": "2023-04-03T11:12:03.086847Z",
     "iopub.status.busy": "2023-04-03T11:12:03.086353Z",
     "iopub.status.idle": "2023-04-03T11:12:04.023518Z",
     "shell.execute_reply": "2023-04-03T11:12:04.022919Z",
     "shell.execute_reply.started": "2023-04-03T11:12:03.086803Z"
    }
   },
   "outputs": [
    {
     "name": "stdout",
     "output_type": "stream",
     "text": [
      "Model: \"sequential\"\n",
      "_________________________________________________________________\n",
      " Layer (type)                Output Shape              Param #   \n",
      "=================================================================\n",
      " conv2d (Conv2D)             (None, 198, 198, 32)      896       \n",
      "                                                                 \n",
      " max_pooling2d (MaxPooling2D  (None, 99, 99, 32)       0         \n",
      " )                                                               \n",
      "                                                                 \n",
      " conv2d_1 (Conv2D)           (None, 49, 49, 64)        18496     \n",
      "                                                                 \n",
      " max_pooling2d_1 (MaxPooling  (None, 24, 24, 64)       0         \n",
      " 2D)                                                             \n",
      "                                                                 \n",
      " conv2d_2 (Conv2D)           (None, 22, 22, 128)       73856     \n",
      "                                                                 \n",
      " max_pooling2d_2 (MaxPooling  (None, 11, 11, 128)      0         \n",
      " 2D)                                                             \n",
      "                                                                 \n",
      " flatten (Flatten)           (None, 15488)             0         \n",
      "                                                                 \n",
      " dropout (Dropout)           (None, 15488)             0         \n",
      "                                                                 \n",
      " dense (Dense)               (None, 512)               7930368   \n",
      "                                                                 \n",
      " dense_1 (Dense)             (None, 1)                 513       \n",
      "                                                                 \n",
      "=================================================================\n",
      "Total params: 8,024,129\n",
      "Trainable params: 8,024,129\n",
      "Non-trainable params: 0\n",
      "_________________________________________________________________\n"
     ]
    }
   ],
   "source": [
    "# build the model\n",
    "model = Sequential()\n",
    "\n",
    "model.add(layers.Conv2D(32, (3, 3), activation='sigmoid', input_shape=(200, 200, 3)))\n",
    "model.add(layers.MaxPooling2D((2, 2)))\n",
    "\n",
    "model.add(layers.Conv2D(64, (3, 3), strides=2, activation='sigmoid'))\n",
    "model.add(layers.MaxPooling2D((2, 2)))\n",
    "\n",
    "model.add(layers.Conv2D(128, (3, 3), activation='sigmoid'))\n",
    "model.add(layers.MaxPooling2D((2, 2)))\n",
    "\n",
    "model.add(layers.Flatten())\n",
    "model.add(layers.Dropout(0.4))\n",
    "\n",
    "model.add(layers.Dense(units=512, activation='sigmoid'))\n",
    "model.add(layers.Dense(units=1, activation='sigmoid'))\n",
    "\n",
    "# Compiling the CNN with Adam optimizer\n",
    "model.compile(optimizer='adam', loss='binary_crossentropy', metrics=['accuracy'])\n",
    "\n",
    "model.summary()"
   ]
  },
  {
   "cell_type": "code",
   "execution_count": 9,
   "id": "5d7a2605-9001-4e47-89fb-09a0eb002d81",
   "metadata": {
    "execution": {
     "iopub.execute_input": "2023-04-03T11:12:14.098458Z",
     "iopub.status.busy": "2023-04-03T11:12:14.098132Z",
     "iopub.status.idle": "2023-04-03T11:12:14.103177Z",
     "shell.execute_reply": "2023-04-03T11:12:14.102345Z",
     "shell.execute_reply.started": "2023-04-03T11:12:14.098434Z"
    }
   },
   "outputs": [],
   "source": [
    "reduce_lr = ReduceLROnPlateau(monitor='val_loss', patience=2, verbose=1, factor=0.3, min_lr=0.000001)\n",
    "early_stop = EarlyStopping(patience=4,restore_best_weights=True)\n",
    "tensorboard = TensorBoard(log_dir='logs')"
   ]
  },
  {
   "cell_type": "code",
   "execution_count": 10,
   "id": "93b6b8d7-45a8-477e-ad97-5b4da5cd08e3",
   "metadata": {
    "execution": {
     "iopub.execute_input": "2023-04-03T11:12:17.847828Z",
     "iopub.status.busy": "2023-04-03T11:12:17.847498Z",
     "iopub.status.idle": "2023-04-03T11:13:28.196188Z",
     "shell.execute_reply": "2023-04-03T11:13:28.195616Z",
     "shell.execute_reply.started": "2023-04-03T11:12:17.847803Z"
    }
   },
   "outputs": [
    {
     "name": "stderr",
     "output_type": "stream",
     "text": [
      "2023-04-03 11:12:17.850535: W tensorflow/core/framework/cpu_allocator_impl.cc:82] Allocation of 3709440000 exceeds 10% of free system memory.\n",
      "2023-04-03 11:12:22.275095: W tensorflow/core/framework/cpu_allocator_impl.cc:82] Allocation of 3709440000 exceeds 10% of free system memory.\n"
     ]
    },
    {
     "name": "stdout",
     "output_type": "stream",
     "text": [
      "Epoch 1/10\n",
      "322/322 - 9s - loss: 1.3548 - accuracy: 0.6000 - val_loss: 0.6499 - val_accuracy: 0.6506 - lr: 0.0010 - 9s/epoch - 29ms/step\n",
      "Epoch 2/10\n",
      "322/322 - 6s - loss: 0.6377 - accuracy: 0.6681 - val_loss: 0.6499 - val_accuracy: 0.6506 - lr: 0.0010 - 6s/epoch - 18ms/step\n",
      "Epoch 3/10\n",
      "\n",
      "Epoch 3: ReduceLROnPlateau reducing learning rate to 0.0003000000142492354.\n",
      "322/322 - 6s - loss: 0.6378 - accuracy: 0.6681 - val_loss: 0.6535 - val_accuracy: 0.6506 - lr: 0.0010 - 6s/epoch - 18ms/step\n",
      "Epoch 4/10\n",
      "322/322 - 6s - loss: 0.6366 - accuracy: 0.6681 - val_loss: 0.6476 - val_accuracy: 0.6506 - lr: 3.0000e-04 - 6s/epoch - 18ms/step\n",
      "Epoch 5/10\n",
      "322/322 - 6s - loss: 0.6369 - accuracy: 0.6681 - val_loss: 0.6478 - val_accuracy: 0.6506 - lr: 3.0000e-04 - 6s/epoch - 18ms/step\n",
      "Epoch 6/10\n",
      "322/322 - 6s - loss: 0.6372 - accuracy: 0.6681 - val_loss: 0.6472 - val_accuracy: 0.6506 - lr: 3.0000e-04 - 6s/epoch - 18ms/step\n",
      "Epoch 7/10\n",
      "322/322 - 6s - loss: 0.6364 - accuracy: 0.6681 - val_loss: 0.6476 - val_accuracy: 0.6506 - lr: 3.0000e-04 - 6s/epoch - 20ms/step\n",
      "Epoch 8/10\n",
      "\n",
      "Epoch 8: ReduceLROnPlateau reducing learning rate to 9.000000427477062e-05.\n",
      "322/322 - 6s - loss: 0.6375 - accuracy: 0.6681 - val_loss: 0.6474 - val_accuracy: 0.6506 - lr: 3.0000e-04 - 6s/epoch - 18ms/step\n",
      "Epoch 9/10\n",
      "322/322 - 6s - loss: 0.6363 - accuracy: 0.6681 - val_loss: 0.6478 - val_accuracy: 0.6506 - lr: 9.0000e-05 - 6s/epoch - 18ms/step\n",
      "Epoch 10/10\n",
      "\n",
      "Epoch 10: ReduceLROnPlateau reducing learning rate to 2.700000040931627e-05.\n",
      "322/322 - 6s - loss: 0.6362 - accuracy: 0.6681 - val_loss: 0.6475 - val_accuracy: 0.6506 - lr: 9.0000e-05 - 6s/epoch - 18ms/step\n"
     ]
    }
   ],
   "source": [
    "history = model.fit(train,train_y,epochs=10,batch_size=24,validation_data=(val,val_y),verbose=2,callbacks=[early_stop,reduce_lr,tensorboard])"
   ]
  },
  {
   "cell_type": "code",
   "execution_count": 13,
   "id": "8cc2f104-6048-4dc2-ab80-ca9ca30770e9",
   "metadata": {
    "execution": {
     "iopub.execute_input": "2023-04-03T11:14:15.302477Z",
     "iopub.status.busy": "2023-04-03T11:14:15.302128Z",
     "iopub.status.idle": "2023-04-03T11:14:15.569642Z",
     "shell.execute_reply": "2023-04-03T11:14:15.568827Z",
     "shell.execute_reply.started": "2023-04-03T11:14:15.302450Z"
    }
   },
   "outputs": [
    {
     "data": {
      "image/png": "[encoded data removed]",
      "text/plain": [
       "<Figure size 800x800 with 2 Axes>"
      ]
     },
     "metadata": {},
     "output_type": "display_data"
    }
   ],
   "source": [
    "epochs=10\n",
    "acc = history.history['accuracy']\n",
    "val_acc = history.history['val_accuracy']\n",
    "\n",
    "loss = history.history['loss']\n",
    "val_loss = history.history['val_loss']\n",
    "\n",
    "epochs_range = range(epochs)\n",
    "\n",
    "\n",
    "plt.figure(figsize=(8, 8))\n",
    "plt.subplot(1, 2, 1)\n",
    "plt.xlabel('Epochs')\n",
    "plt.ylabel('Accuracy')\n",
    "plt.plot(epochs_range, acc, label='Training Accuracy')\n",
    "plt.plot(epochs_range, val_acc, label='Validation Accuracy')\n",
    "plt.legend(loc='upper left')\n",
    "plt.title('Training and Validation Accuracy')\n",
    "\n",
    "plt.subplot(1, 2, 2)\n",
    "plt.xlabel('Epochs')\n",
    "plt.ylabel('Loss')\n",
    "plt.plot(epochs_range, loss, label='Training Loss')\n",
    "plt.plot(epochs_range, val_loss, label='Validation Loss')\n",
    "plt.legend(loc='upper right')\n",
    "plt.title('Training and Validation Loss')\n",
    "plt.show()\n"
   ]
  },
  {
   "cell_type": "code",
   "execution_count": 14,
   "id": "25685bed-8f02-46c2-b89a-0fce27040cab",
   "metadata": {
    "execution": {
     "iopub.execute_input": "2023-04-03T11:14:27.146508Z",
     "iopub.status.busy": "2023-04-03T11:14:27.146189Z",
     "iopub.status.idle": "2023-04-03T11:14:29.157083Z",
     "shell.execute_reply": "2023-04-03T11:14:29.156005Z",
     "shell.execute_reply.started": "2023-04-03T11:14:27.146483Z"
    }
   },
   "outputs": [
    {
     "name": "stdout",
     "output_type": "stream",
     "text": [
      "61/61 [==============================] - 1s 10ms/step\n",
      "{'f1': 0.0, 'precision': 0.0, 'recall': 0.0}\n"
     ]
    },
    {
     "name": "stderr",
     "output_type": "stream",
     "text": [
      "/usr/local/lib/python3.9/dist-packages/sklearn/metrics/_classification.py:1334: UndefinedMetricWarning: Precision is ill-defined and being set to 0.0 due to no predicted samples. Use `zero_division` parameter to control this behavior.\n",
      "  _warn_prf(average, modifier, msg_start, len(result))\n"
     ]
    },
    {
     "data": {
      "image/png": "[encoded data removed]",
      "text/plain": [
       "<Figure size 640x480 with 1 Axes>"
      ]
     },
     "metadata": {},
     "output_type": "display_data"
    }
   ],
   "source": [
    "# Make predictions on validation data\n",
    "val_pred = model.predict(val)\n",
    "val_pred = np.round(val_pred)\n",
    "val_pred = val_pred.flatten()\n",
    "\n",
    "# Calculate metrics\n",
    "f1 = f1_score(val_y, val_pred)\n",
    "precision = precision_score(val_y, val_pred)\n",
    "recall = recall_score(val_y, val_pred)\n",
    "\n",
    "# Create a dictionary of metrics\n",
    "metrics = {'f1':f1, 'precision':precision, 'recall':recall}\n",
    "\n",
    "# Print metrics\n",
    "print(metrics)\n",
    "\n",
    "# Plot the metrics in a bar chart\n",
    "import matplotlib.pyplot as plt\n",
    "\n",
    "plt.bar(metrics.keys(), metrics.values())\n",
    "plt.xlabel('Metric')\n",
    "plt.ylabel('Value')\n",
    "plt.show()\n"
   ]
  },
  {
   "cell_type": "code",
   "execution_count": 15,
   "id": "7ed7448a-072a-4107-8d93-cfa29df62744",
   "metadata": {
    "execution": {
     "iopub.execute_input": "2023-04-03T11:15:34.468643Z",
     "iopub.status.busy": "2023-04-03T11:15:34.468293Z",
     "iopub.status.idle": "2023-04-03T11:15:34.482725Z",
     "shell.execute_reply": "2023-04-03T11:15:34.481772Z",
     "shell.execute_reply.started": "2023-04-03T11:15:34.468616Z"
    }
   },
   "outputs": [],
   "source": [
    "ben_test = os.listdir('benign_test')\n",
    "mal_test = os.listdir('malignant_test')"
   ]
  },
  {
   "cell_type": "code",
   "execution_count": 16,
   "id": "8046430d-97cb-44d9-9ab3-2ed313d91d43",
   "metadata": {
    "execution": {
     "iopub.execute_input": "2023-04-03T11:15:44.560867Z",
     "iopub.status.busy": "2023-04-03T11:15:44.560456Z",
     "iopub.status.idle": "2023-04-03T11:15:48.425798Z",
     "shell.execute_reply": "2023-04-03T11:15:48.425065Z",
     "shell.execute_reply.started": "2023-04-03T11:15:44.560838Z"
    }
   },
   "outputs": [
    {
     "name": "stdout",
     "output_type": "stream",
     "text": [
      "21/21 - 0s - loss: 0.7162 - accuracy: 0.5455 - 356ms/epoch - 17ms/step\n",
      "Accuracy on test data: 0.5454545617103577\n",
      "Loss on test data: 0.716204047203064\n"
     ]
    }
   ],
   "source": [
    "test = []\n",
    "test_y = []\n",
    "for i in ben_test:\n",
    "    x = 'benign_test/' + i\n",
    "    img = cv2.imread(x)\n",
    "    img = cv2.cvtColor(img, cv2.COLOR_BGR2RGB)\n",
    "    img = cv2.resize(img,(200,200))\n",
    "    img = img/255 # normalising \n",
    "    test.append(img)\n",
    "    test_y.append(0)\n",
    "for i in mal_test:\n",
    "    x = 'malignant_test/' + i\n",
    "    img = cv2.imread(x)\n",
    "    img = cv2.cvtColor(img, cv2.COLOR_BGR2RGB)\n",
    "    img = cv2.resize(img,(200,200))\n",
    "    img = img/255 # normalising \n",
    "    test.append(img)\n",
    "    test_y.append(1)\n",
    "test = np.array(test)\n",
    "encoder = LabelEncoder()\n",
    "encoder.fit(test_y)\n",
    "## encoder = to_categorical(encoder.fit_transform(test_y))\n",
    "test_y = encoder.transform(test_y)\n",
    "loss,acc = model.evaluate(test, test_y,verbose=2)\n",
    "print('Accuracy on test data: '+ str(acc))\n",
    "print('Loss on test data: ' + str(loss))"
   ]
  },
  {
   "cell_type": "code",
   "execution_count": 17,
   "id": "95ae4917-ae56-4902-9d27-63f79637f6ba",
   "metadata": {
    "execution": {
     "iopub.execute_input": "2023-04-03T11:15:56.379508Z",
     "iopub.status.busy": "2023-04-03T11:15:56.379123Z",
     "iopub.status.idle": "2023-04-03T11:15:56.483126Z",
     "shell.execute_reply": "2023-04-03T11:15:56.482363Z",
     "shell.execute_reply.started": "2023-04-03T11:15:56.379492Z"
    }
   },
   "outputs": [
    {
     "data": {
      "image/png": "[encoded data removed]",
      "text/plain": [
       "<Figure size 640x480 with 1 Axes>"
      ]
     },
     "metadata": {},
     "output_type": "display_data"
    }
   ],
   "source": [
    "# Create a bar chart\n",
    "plt.bar(['Accuracy', 'Loss'], [acc, loss])\n",
    "\n",
    "# Add labels to the x and y axis\n",
    "plt.xlabel('Metrics')\n",
    "plt.ylabel('Value (%)')\n",
    "plt.title(\"Accuracy and Loss performance on test data\")\n",
    "\n",
    "# Show the plot\n",
    "plt.show()"
   ]
  },
  {
   "cell_type": "code",
   "execution_count": 18,
   "id": "8735341f-a9d2-4ab0-99ac-9ab87e8e2566",
   "metadata": {
    "execution": {
     "iopub.execute_input": "2023-04-03T11:16:01.966855Z",
     "iopub.status.busy": "2023-04-03T11:16:01.966461Z",
     "iopub.status.idle": "2023-04-03T11:16:02.467945Z",
     "shell.execute_reply": "2023-04-03T11:16:02.466710Z",
     "shell.execute_reply.started": "2023-04-03T11:16:01.966817Z"
    }
   },
   "outputs": [
    {
     "name": "stdout",
     "output_type": "stream",
     "text": [
      "21/21 [==============================] - 0s 11ms/step\n"
     ]
    }
   ],
   "source": [
    "predictions = model.predict(test)\n",
    "predictions = (predictions >= 0.5).astype(int)\n",
    "actual = test_y"
   ]
  },
  {
   "cell_type": "code",
   "execution_count": 19,
   "id": "d2cdd9a1-fb9d-4790-b8c8-8d28685720a6",
   "metadata": {
    "execution": {
     "iopub.execute_input": "2023-04-03T11:16:05.361564Z",
     "iopub.status.busy": "2023-04-03T11:16:05.360728Z",
     "iopub.status.idle": "2023-04-03T11:16:05.469728Z",
     "shell.execute_reply": "2023-04-03T11:16:05.469053Z",
     "shell.execute_reply.started": "2023-04-03T11:16:05.361535Z"
    }
   },
   "outputs": [],
   "source": [
    "from sklearn.metrics import confusion_matrix\n",
    "import seaborn as sns"
   ]
  },
  {
   "cell_type": "code",
   "execution_count": 20,
   "id": "f7176540-0f38-4be4-a000-c9e254454f6e",
   "metadata": {
    "execution": {
     "iopub.execute_input": "2023-04-03T11:16:07.469124Z",
     "iopub.status.busy": "2023-04-03T11:16:07.468386Z",
     "iopub.status.idle": "2023-04-03T11:16:07.616329Z",
     "shell.execute_reply": "2023-04-03T11:16:07.615653Z",
     "shell.execute_reply.started": "2023-04-03T11:16:07.469094Z"
    }
   },
   "outputs": [
    {
     "data": {
      "image/png": "[encoded data removed]",
      "text/plain": [
       "<Figure size 640x480 with 2 Axes>"
      ]
     },
     "metadata": {},
     "output_type": "display_data"
    }
   ],
   "source": [
    "cm = confusion_matrix(actual, predictions)\n",
    "\n",
    "sns.heatmap(cm, annot=True, fmt='d', xticklabels=['malignant', 'benign'], yticklabels=['malignant', 'benign'])\n",
    "plt.xlabel('Predicted label')\n",
    "plt.ylabel('True label')\n",
    "plt.show()"
   ]
  },
  {
   "cell_type": "code",
   "execution_count": null,
   "id": "525e6ee0-507b-48f9-8f7e-4f4e1d4202f4",
   "metadata": {},
   "outputs": [],
   "source": []
  }
 ],
 "metadata": {
  "kernelspec": {
   "display_name": "Python 3 (ipykernel)",
   "language": "python",
   "name": "python3"
  },
  "language_info": {
   "codemirror_mode": {
    "name": "ipython",
    "version": 3
   },
   "file_extension": ".py",
   "mimetype": "text/x-python",
   "name": "python",
   "nbconvert_exporter": "python",
   "pygments_lexer": "ipython3",
   "version": "3.9.16"
  }
 },
 "nbformat": 4,
 "nbformat_minor": 5
}
