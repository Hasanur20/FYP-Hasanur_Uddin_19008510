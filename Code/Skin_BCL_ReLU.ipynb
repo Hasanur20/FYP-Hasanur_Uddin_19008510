{
 "cells": [
  {
   "cell_type": "code",
   "execution_count": 1,
   "id": "2d6cbddf",
   "metadata": {},
   "outputs": [],
   "source": [
    "import numpy as np\n",
    "import os\n",
    "import matplotlib.pyplot as plt\n",
    "from sklearn.preprocessing import LabelEncoder\n",
    "import cv2\n",
    "from tensorflow.keras.layers import Dense, Conv2D, Flatten, Dropout, MaxPooling2D\n",
    "from tensorflow.keras.optimizers import Adam\n",
    "from tensorflow.keras.models import Sequential\n",
    "from tensorflow.keras.callbacks import ReduceLROnPlateau,EarlyStopping,TensorBoard\n",
    "from keras import layers\n",
    "from sklearn.model_selection import train_test_split\n",
    "import sklearn.metrics as metrics \n",
    "from sklearn.metrics import classification_report, f1_score, precision_score, recall_score"
   ]
  },
  {
   "cell_type": "code",
   "execution_count": 2,
   "id": "4975c236",
   "metadata": {},
   "outputs": [],
   "source": [
    "ben_train = os.listdir('C:/Users/hasan/Skin disease Classification FYP/CancerDataset/train/benign')\n",
    "mal_train = os.listdir('C:/Users/hasan/Skin disease Classification FYP/CancerDataset/train/malignant')"
   ]
  },
  {
   "cell_type": "code",
   "execution_count": 3,
   "id": "50a99ebb",
   "metadata": {},
   "outputs": [],
   "source": [
    "train = []\n",
    "train_y = []\n",
    "\n",
    "# For loop to access images from folder and convert then to appropriate format , in this case size and colour were considered , open cv is easiest tool to use for this task \n",
    "for i in ben_train:\n",
    "    x = 'C:/Users/hasan/Skin disease Classification FYP/CancerDataset/train/benign/' + i\n",
    "    img = cv2.cvtColor(cv2.imread(x), cv2.COLOR_BGR2RGB)\n",
    "    img = cv2.resize(img,(200,200))\n",
    "    img = img/255 # normalising image \n",
    "    train.append(img.flatten())\n",
    "    train_y.append(0) # label 0 for benign\n",
    "for i in mal_train:\n",
    "    x = 'C:/Users/hasan/Skin disease Classification FYP/CancerDataset/train/malignant/' + i\n",
    "    img = cv2.imread(x)\n",
    "    img = cv2.cvtColor(img, cv2.COLOR_BGR2RGB)\n",
    "    img  = cv2.resize(img,(200,200))\n",
    "    img = img/255 # normalising image\n",
    "    train.append(img.flatten())\n",
    "    train_y.append(1) # label 1 for malignant\n",
    "train = np.array(train) "
   ]
  },
  {
   "cell_type": "code",
   "execution_count": 4,
   "id": "bb9407ea",
   "metadata": {},
   "outputs": [
    {
     "name": "stdout",
     "output_type": "stream",
     "text": [
      "training rows 2109\n",
      "validation rows 528\n"
     ]
    }
   ],
   "source": [
    "train,val,train_y,val_y = train_test_split(train,train_y,test_size=0.2,random_state=44)\n",
    "train = train.reshape(train.shape[0],200,200,3)\n",
    "val = val.reshape(val.shape[0],200,200,3)\n",
    "encoder = LabelEncoder() # transform the labels so they can be read by the machine easily \n",
    "encoder = encoder.fit(train_y) # pass through the y labels \n",
    "train_y = encoder.transform(train_y) # transfrom the labels \n",
    "encoder = encoder.fit(val_y)\n",
    "val_y = encoder.transform(val_y)\n",
    "print(str('training rows ' + str(len(train)))) # print the length of training data \n",
    "print(str('validation rows ' + str(len(val)))) # validation or test data "
   ]
  },
  {
   "cell_type": "code",
   "execution_count": 5,
   "id": "8dc6d86a",
   "metadata": {},
   "outputs": [
    {
     "name": "stdout",
     "output_type": "stream",
     "text": [
      "Model: \"sequential\"\n",
      "_________________________________________________________________\n",
      " Layer (type)                Output Shape              Param #   \n",
      "=================================================================\n",
      " conv2d (Conv2D)             (None, 198, 198, 32)      896       \n",
      "                                                                 \n",
      " max_pooling2d (MaxPooling2D  (None, 99, 99, 32)       0         \n",
      " )                                                               \n",
      "                                                                 \n",
      " conv2d_1 (Conv2D)           (None, 97, 97, 64)        18496     \n",
      "                                                                 \n",
      " max_pooling2d_1 (MaxPooling  (None, 48, 48, 64)       0         \n",
      " 2D)                                                             \n",
      "                                                                 \n",
      " conv2d_2 (Conv2D)           (None, 46, 46, 128)       73856     \n",
      "                                                                 \n",
      " max_pooling2d_2 (MaxPooling  (None, 23, 23, 128)      0         \n",
      " 2D)                                                             \n",
      "                                                                 \n",
      " flatten (Flatten)           (None, 67712)             0         \n",
      "                                                                 \n",
      " dense (Dense)               (None, 512)               34669056  \n",
      "                                                                 \n",
      " dense_1 (Dense)             (None, 1)                 513       \n",
      "                                                                 \n",
      "=================================================================\n",
      "Total params: 34,762,817\n",
      "Trainable params: 34,762,817\n",
      "Non-trainable params: 0\n",
      "_________________________________________________________________\n"
     ]
    }
   ],
   "source": [
    "## build the model \n",
    "model = Sequential()\n",
    "model.add(layers.Conv2D(32, (3, 3), activation = 'relu', input_shape=(200 ,200, 3)))\n",
    "model.add(layers.MaxPooling2D((2, 2)))\n",
    "# Adding a second convolutional layer with 64 filters\n",
    "model.add(layers.Conv2D(64, (3, 3), activation = 'relu', input_shape = (64 ,64,  3)))\n",
    "# Second pooling layer\n",
    "model.add(layers.MaxPooling2D((2, 2)))\n",
    "# Adding a third convolutional layer with 128 filters\n",
    "model.add(layers.Conv2D(128, (3, 3), activation = 'relu', input_shape = (64 ,64,  3)))\n",
    "# Third pooling layer\n",
    "model.add(layers.MaxPooling2D((2, 2)))\n",
    "\n",
    "# Flattening\n",
    "model.add(layers.Flatten())\n",
    "# Full connection\n",
    "model.add(layers.Dense(units = 512, activation = 'relu'))\n",
    "model.add(layers.Dense(units = 1, activation = 'sigmoid'))\n",
    "# Compiling the CNN\n",
    "model.compile(Adam(0.0001),'binary_crossentropy',['accuracy'])\n",
    "model.summary()"
   ]
  },
  {
   "cell_type": "code",
   "execution_count": 6,
   "id": "08b7ed2e",
   "metadata": {},
   "outputs": [],
   "source": [
    "reduce_lr = ReduceLROnPlateau(monitor='val_loss', patience=2, verbose=2, factor=0.3, min_lr=0.000001)\n",
    "early_stop = EarlyStopping(patience=4,restore_best_weights=True)\n",
    "tensorboard = TensorBoard(log_dir='logs')\n"
   ]
  },
  {
   "cell_type": "code",
   "execution_count": 7,
   "id": "b2a1302a",
   "metadata": {},
   "outputs": [
    {
     "name": "stdout",
     "output_type": "stream",
     "text": [
      "Epoch 1/10\n",
      "211/211 - 170s - loss: 0.5988 - accuracy: 0.6638 - val_loss: 0.5346 - val_accuracy: 0.7348 - lr: 1.0000e-04 - 170s/epoch - 804ms/step\n",
      "Epoch 2/10\n",
      "211/211 - 161s - loss: 0.4476 - accuracy: 0.7715 - val_loss: 0.4489 - val_accuracy: 0.7652 - lr: 1.0000e-04 - 161s/epoch - 765ms/step\n",
      "Epoch 3/10\n",
      "211/211 - 173s - loss: 0.4177 - accuracy: 0.7966 - val_loss: 0.4231 - val_accuracy: 0.7917 - lr: 1.0000e-04 - 173s/epoch - 818ms/step\n",
      "Epoch 4/10\n",
      "211/211 - 168s - loss: 0.4007 - accuracy: 0.8018 - val_loss: 0.3850 - val_accuracy: 0.8144 - lr: 1.0000e-04 - 168s/epoch - 798ms/step\n",
      "Epoch 5/10\n",
      "211/211 - 165s - loss: 0.3821 - accuracy: 0.8137 - val_loss: 0.4277 - val_accuracy: 0.7784 - lr: 1.0000e-04 - 165s/epoch - 782ms/step\n",
      "Epoch 6/10\n",
      "\n",
      "Epoch 6: ReduceLROnPlateau reducing learning rate to 2.9999999242136255e-05.\n",
      "211/211 - 169s - loss: 0.3569 - accuracy: 0.8269 - val_loss: 0.4281 - val_accuracy: 0.7841 - lr: 1.0000e-04 - 169s/epoch - 802ms/step\n",
      "Epoch 7/10\n",
      "211/211 - 167s - loss: 0.3296 - accuracy: 0.8416 - val_loss: 0.3490 - val_accuracy: 0.8201 - lr: 3.0000e-05 - 167s/epoch - 791ms/step\n",
      "Epoch 8/10\n",
      "211/211 - 165s - loss: 0.3140 - accuracy: 0.8497 - val_loss: 0.3476 - val_accuracy: 0.8106 - lr: 3.0000e-05 - 165s/epoch - 783ms/step\n",
      "Epoch 9/10\n",
      "211/211 - 160s - loss: 0.3099 - accuracy: 0.8521 - val_loss: 0.3495 - val_accuracy: 0.8409 - lr: 3.0000e-05 - 160s/epoch - 759ms/step\n",
      "Epoch 10/10\n",
      "\n",
      "Epoch 10: ReduceLROnPlateau reducing learning rate to 8.999999772640877e-06.\n",
      "211/211 - 160s - loss: 0.3024 - accuracy: 0.8582 - val_loss: 0.3564 - val_accuracy: 0.8295 - lr: 3.0000e-05 - 160s/epoch - 759ms/step\n"
     ]
    }
   ],
   "source": [
    "history = model.fit(train,train_y,epochs=10,batch_size=10,validation_data=(val,val_y),verbose=2,callbacks=[early_stop,reduce_lr,tensorboard])"
   ]
  },
  {
   "cell_type": "code",
   "execution_count": 19,
   "id": "b967d1c2",
   "metadata": {},
   "outputs": [],
   "source": [
    "%reload_ext tensorboard\n"
   ]
  },
  {
   "cell_type": "code",
   "execution_count": 8,
   "id": "83d700ad",
   "metadata": {},
   "outputs": [],
   "source": [
    "epochs=10"
   ]
  },
  {
   "cell_type": "code",
   "execution_count": 9,
   "id": "80b4cc1d",
   "metadata": {},
   "outputs": [
    {
     "data": {
      "image/png": "[encoded data removed]",
      "text/plain": [
       "<Figure size 576x576 with 2 Axes>"
      ]
     },
     "metadata": {
      "needs_background": "light"
     },
     "output_type": "display_data"
    }
   ],
   "source": [
    "acc = history.history['accuracy']\n",
    "val_acc = history.history['val_accuracy']\n",
    "\n",
    "loss = history.history['loss']\n",
    "val_loss = history.history['val_loss']\n",
    "\n",
    "epochs_range = range(epochs)\n",
    "\n",
    "\n",
    "plt.figure(figsize=(8, 8))\n",
    "plt.subplot(1, 2, 1)\n",
    "plt.xlabel('Epochs')\n",
    "plt.ylabel('Accuracy')\n",
    "plt.plot(epochs_range, acc, label='Training Accuracy')\n",
    "plt.plot(epochs_range, val_acc, label='Validation Accuracy')\n",
    "plt.legend(loc='lower right')\n",
    "plt.title('Training and Validation Accuracy')\n",
    "\n",
    "plt.subplot(1, 2, 2)\n",
    "plt.xlabel('Epochs')\n",
    "plt.ylabel('Loss')\n",
    "plt.plot(epochs_range, loss, label='Training Loss')\n",
    "plt.plot(epochs_range, val_loss, label='Validation Loss')\n",
    "plt.legend(loc='upper right')\n",
    "plt.title('Training and Validation Loss')\n",
    "plt.show()"
   ]
  },
  {
   "cell_type": "code",
   "execution_count": 10,
   "id": "2e3f951c",
   "metadata": {},
   "outputs": [
    {
     "name": "stdout",
     "output_type": "stream",
     "text": [
      "17/17 [==============================] - 6s 325ms/step\n",
      "{'f1': 0.7991071428571428, 'precision': 0.8689320388349514, 'recall': 0.7396694214876033}\n"
     ]
    },
    {
     "data": {
      "image/png": "[encoded data removed]",
      "text/plain": [
       "<Figure size 432x288 with 1 Axes>"
      ]
     },
     "metadata": {
      "needs_background": "light"
     },
     "output_type": "display_data"
    }
   ],
   "source": [
    "\n",
    "# Make predictions on validation data\n",
    "val_pred = model.predict(val)\n",
    "val_pred = np.round(val_pred)\n",
    "val_pred = val_pred.flatten()\n",
    "\n",
    "# Calculate metrics\n",
    "f1 = f1_score(val_y, val_pred)\n",
    "precision = precision_score(val_y, val_pred)\n",
    "recall = recall_score(val_y, val_pred)\n",
    "\n",
    "# Create a dictionary of metrics\n",
    "metrics = {'f1':f1, 'precision':precision, 'recall':recall}\n",
    "\n",
    "# Print metrics\n",
    "print(metrics)\n",
    "\n",
    "# Plot the metrics in a bar chart\n",
    "import matplotlib.pyplot as plt\n",
    "\n",
    "plt.bar(metrics.keys(), metrics.values())\n",
    "plt.xlabel('Metric')\n",
    "plt.ylabel('Value')\n",
    "plt.show()"
   ]
  },
  {
   "cell_type": "code",
   "execution_count": null,
   "id": "80e2d0ee",
   "metadata": {},
   "outputs": [],
   "source": []
  },
  {
   "cell_type": "code",
   "execution_count": null,
   "id": "44cd9773",
   "metadata": {},
   "outputs": [],
   "source": []
  },
  {
   "cell_type": "code",
   "execution_count": 20,
   "id": "4ad70191",
   "metadata": {},
   "outputs": [
    {
     "data": {
      "text/plain": [
       "Reusing TensorBoard on port 6006 (pid 144848), started 3 days, 1:51:40 ago. (Use '!kill 144848' to kill it.)"
      ]
     },
     "metadata": {},
     "output_type": "display_data"
    },
    {
     "data": {
      "text/html": [
       "\n",
       "      <iframe id=\"tensorboard-frame-5dd046f21b8fb4d4\" width=\"100%\" height=\"800\" frameborder=\"0\">\n",
       "      </iframe>\n",
       "      <script>\n",
       "        (function() {\n",
       "          const frame = document.getElementById(\"tensorboard-frame-5dd046f21b8fb4d4\");\n",
       "          const url = new URL(\"/\", window.location);\n",
       "          const port = 6006;\n",
       "          if (port) {\n",
       "            url.port = port;\n",
       "          }\n",
       "          frame.src = url;\n",
       "        })();\n",
       "      </script>\n",
       "    "
      ],
      "text/plain": [
       "<IPython.core.display.HTML object>"
      ]
     },
     "metadata": {},
     "output_type": "display_data"
    }
   ],
   "source": [
    "%tensorboard --logdir logs"
   ]
  },
  {
   "cell_type": "code",
   "execution_count": null,
   "id": "81b5ad20",
   "metadata": {},
   "outputs": [],
   "source": []
  },
  {
   "cell_type": "code",
   "execution_count": 11,
   "id": "7fd093e5",
   "metadata": {},
   "outputs": [],
   "source": [
    "ben_test = os.listdir('C:/Users/hasan/Skin disease Classification FYP/CancerDataset/test/benign')\n",
    "mal_test = os.listdir('C:/Users/hasan/Skin disease Classification FYP/CancerDataset/test/malignant')"
   ]
  },
  {
   "cell_type": "code",
   "execution_count": 12,
   "id": "9e577ea6",
   "metadata": {},
   "outputs": [
    {
     "name": "stdout",
     "output_type": "stream",
     "text": [
      "21/21 - 6s - loss: 0.3583 - accuracy: 0.8273 - 6s/epoch - 266ms/step\n",
      "Accuracy on test data: 82.72727131843567\n",
      "Loss on test data: 0.35833224654197693\n"
     ]
    }
   ],
   "source": [
    "test = []\n",
    "test_y = []\n",
    "for i in ben_test:\n",
    "    x = 'C:/Users/hasan/Skin disease Classification FYP/CancerDataset/test/benign/' + i\n",
    "    img = cv2.imread(x)\n",
    "    img = cv2.cvtColor(img, cv2.COLOR_BGR2RGB)\n",
    "    img = cv2.resize(img,(200,200))\n",
    "    img = img/255 # normalising \n",
    "    test.append(img)\n",
    "    test_y.append(0)\n",
    "for i in mal_test:\n",
    "    x = 'C:/Users/hasan/Skin disease Classification FYP/CancerDataset/test/malignant/' + i\n",
    "    img = cv2.imread(x)\n",
    "    img = cv2.cvtColor(img, cv2.COLOR_BGR2RGB)\n",
    "    img = cv2.resize(img,(200,200))\n",
    "    img = img/255 # normalising \n",
    "    test.append(img)\n",
    "    test_y.append(1)\n",
    "test = np.array(test)\n",
    "encoder = LabelEncoder()\n",
    "encoder = encoder.fit(test_y)\n",
    "test_y = encoder.transform(test_y)\n",
    "loss,acc = model.evaluate(test, test_y,verbose=2)\n",
    "print('Accuracy on test data: '+ str(acc*100))\n",
    "print('Loss on test data: ' + str(loss))"
   ]
  },
  {
   "cell_type": "code",
   "execution_count": 15,
   "id": "3175ecde",
   "metadata": {},
   "outputs": [],
   "source": [
    "acc = 82.72727131843567\n",
    "loss = 0.35833224654197693"
   ]
  },
  {
   "cell_type": "code",
   "execution_count": null,
   "id": "df95868a",
   "metadata": {},
   "outputs": [],
   "source": []
  },
  {
   "cell_type": "code",
   "execution_count": 23,
   "id": "fd8d918a",
   "metadata": {},
   "outputs": [
    {
     "data": {
      "image/png": "[encoded data removed]",
      "text/plain": [
       "<Figure size 432x288 with 1 Axes>"
      ]
     },
     "metadata": {
      "needs_background": "light"
     },
     "output_type": "display_data"
    }
   ],
   "source": [
    "# Create a bar chart\n",
    "plt.bar(['Accuracy', 'Loss'], [acc, loss*100])\n",
    "\n",
    "# Add labels to the x and y axis\n",
    "plt.xlabel('Metrics')\n",
    "plt.ylabel('Value (%)')\n",
    "plt.title(\"Accuracy and Loss performance on test data\")\n",
    "\n",
    "# Show the plot\n",
    "plt.show()"
   ]
  },
  {
   "cell_type": "code",
   "execution_count": 24,
   "id": "dd218463",
   "metadata": {},
   "outputs": [],
   "source": [
    "model.save('model.h5')"
   ]
  },
  {
   "cell_type": "code",
   "execution_count": null,
   "id": "1b89386e",
   "metadata": {},
   "outputs": [],
   "source": []
  },
  {
   "cell_type": "code",
   "execution_count": null,
   "id": "30241a6c",
   "metadata": {},
   "outputs": [],
   "source": []
  }
 ],
 "metadata": {
  "kernelspec": {
   "display_name": "Python 3 (ipykernel)",
   "language": "python",
   "name": "python3"
  },
  "language_info": {
   "codemirror_mode": {
    "name": "ipython",
    "version": 3
   },
   "file_extension": ".py",
   "mimetype": "text/x-python",
   "name": "python",
   "nbconvert_exporter": "python",
   "pygments_lexer": "ipython3",
   "version": "3.9.12"
  }
 },
 "nbformat": 4,
 "nbformat_minor": 5
}
